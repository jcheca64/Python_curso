{
  "nbformat": 4,
  "nbformat_minor": 0,
  "metadata": {
    "colab": {
      "provenance": []
    },
    "kernelspec": {
      "name": "python3",
      "display_name": "Python 3"
    },
    "language_info": {
      "name": "python"
    }
  },
  "cells": [
    {
      "cell_type": "code",
      "source": [
        "#lanza es una lista que tiene el resultado de una tanda de lanzamientos de los n dados\n",
        "#datos es una lista que tiene todas las m tandas\n",
        "#o sea que datos es como una matriz de mxn\n",
        "\n",
        "import random\n",
        "import statistics\n",
        "\n",
        "lanza=[]\n",
        "datos=[]\n",
        "n=int(input('Numero de dados?'))\n",
        "m=int(input('Número de lanzamientos? '))\n",
        "print ()\n",
        "for i in range (1,m+1):\n",
        " lanza = [random.randint(1, 6) for _ in range(n)]\n",
        " print ('Lanzamiento ',i,'  ',lanza)\n",
        " datos.append(lanza)\n",
        "\n"
      ],
      "metadata": {
        "id": "yx50OPUL02zG",
        "outputId": "bee1b1dd-8404-432f-ece0-41eb4ece62e5",
        "colab": {
          "base_uri": "https://localhost:8080/"
        }
      },
      "execution_count": null,
      "outputs": [
        {
          "output_type": "stream",
          "name": "stdout",
          "text": [
            "Numero de dados?2\n",
            "Número de lanzamientos? 50\n",
            "\n",
            "Lanzamiento  1    [2, 1]\n",
            "Lanzamiento  2    [1, 3]\n",
            "Lanzamiento  3    [3, 2]\n",
            "Lanzamiento  4    [1, 2]\n",
            "Lanzamiento  5    [3, 5]\n",
            "Lanzamiento  6    [6, 2]\n",
            "Lanzamiento  7    [6, 5]\n",
            "Lanzamiento  8    [2, 3]\n",
            "Lanzamiento  9    [5, 1]\n",
            "Lanzamiento  10    [5, 3]\n",
            "Lanzamiento  11    [5, 1]\n",
            "Lanzamiento  12    [3, 1]\n",
            "Lanzamiento  13    [4, 5]\n",
            "Lanzamiento  14    [3, 4]\n",
            "Lanzamiento  15    [5, 6]\n",
            "Lanzamiento  16    [4, 1]\n",
            "Lanzamiento  17    [6, 5]\n",
            "Lanzamiento  18    [4, 1]\n",
            "Lanzamiento  19    [4, 2]\n",
            "Lanzamiento  20    [3, 5]\n",
            "Lanzamiento  21    [3, 2]\n",
            "Lanzamiento  22    [3, 4]\n",
            "Lanzamiento  23    [3, 4]\n",
            "Lanzamiento  24    [4, 5]\n",
            "Lanzamiento  25    [3, 5]\n",
            "Lanzamiento  26    [2, 3]\n",
            "Lanzamiento  27    [4, 6]\n",
            "Lanzamiento  28    [5, 1]\n",
            "Lanzamiento  29    [5, 2]\n",
            "Lanzamiento  30    [1, 4]\n",
            "Lanzamiento  31    [6, 1]\n",
            "Lanzamiento  32    [4, 3]\n",
            "Lanzamiento  33    [1, 5]\n",
            "Lanzamiento  34    [5, 5]\n",
            "Lanzamiento  35    [2, 5]\n",
            "Lanzamiento  36    [5, 5]\n",
            "Lanzamiento  37    [5, 2]\n",
            "Lanzamiento  38    [1, 3]\n",
            "Lanzamiento  39    [6, 4]\n",
            "Lanzamiento  40    [6, 6]\n",
            "Lanzamiento  41    [3, 1]\n",
            "Lanzamiento  42    [5, 5]\n",
            "Lanzamiento  43    [3, 4]\n",
            "Lanzamiento  44    [5, 3]\n",
            "Lanzamiento  45    [4, 1]\n",
            "Lanzamiento  46    [2, 6]\n",
            "Lanzamiento  47    [3, 5]\n",
            "Lanzamiento  48    [4, 2]\n",
            "Lanzamiento  49    [6, 4]\n",
            "Lanzamiento  50    [5, 6]\n"
          ]
        }
      ]
    },
    {
      "cell_type": "code",
      "source": [
        "# Aqui estoy transponiendo la lista para poder tener acceso facil a los datos de cada dado.\n",
        "# Sospecho que lo puedo hacer de una vez desde la creación de la lista datos pero por ahora\n",
        "# me sirve.\n",
        "\n",
        "transpuesta=[]\n",
        "for col in range(n):\n",
        "\n",
        "    columna_list = []\n",
        "\n",
        "    for row in range(m):\n",
        "\n",
        "      columna_list.append(datos[row][col])\n",
        "\n",
        "    transpuesta.append(columna_list)"
      ],
      "metadata": {
        "id": "9jA5b6cdKJaS"
      },
      "execution_count": null,
      "outputs": []
    },
    {
      "cell_type": "code",
      "source": [
        "# Aquí se imprimen los resultados\n",
        "# Convierto cada elemento de la lista en un vector para poder hacer las estadísticas\n",
        "# Uso la librería statistics para el promedio, moda y desviación estándar.\n",
        "\n",
        "\n",
        "print ('RESULTADOS DEL EXPERIMENTO')\n",
        "print()\n",
        "for i in range(n):\n",
        "  print (f'Datos para el Dado No {(i+1)} despues de {(m)} lanzamientos')\n",
        "  x=transpuesta[i]\n",
        "  print ('Mínimo: ',min(x))\n",
        "  print ('Máximo: ',max(x))\n",
        "  print (f'Promedio:{statistics.mean(x):.2f}')\n",
        "  print ('Moda: ',statistics.mode(x))\n",
        "  print(f'Desviacion estandar: {statistics.stdev(x):.2f}')\n",
        "  print('___________________')"
      ],
      "metadata": {
        "colab": {
          "base_uri": "https://localhost:8080/"
        },
        "id": "3VFUsRoGYZDP",
        "outputId": "9d9f219a-ccc7-4f97-d991-46ef52dfdb29"
      },
      "execution_count": null,
      "outputs": [
        {
          "output_type": "stream",
          "name": "stdout",
          "text": [
            "RESULTADOS DEL EXPERIMENTO\n",
            "\n",
            "Datos para el Dado No 1 despues de 100 lanzamientos\n",
            "Mínimo:  1\n",
            "Máximo:  6\n",
            "Promedio:3.58\n",
            "Moda:  5\n",
            "Desviacion estandar: 1.67\n",
            "___________________\n",
            "Datos para el Dado No 2 despues de 100 lanzamientos\n",
            "Mínimo:  1\n",
            "Máximo:  6\n",
            "Promedio:3.64\n",
            "Moda:  5\n",
            "Desviacion estandar: 1.64\n",
            "___________________\n",
            "Datos para el Dado No 3 despues de 100 lanzamientos\n",
            "Mínimo:  1\n",
            "Máximo:  6\n",
            "Promedio:3.44\n",
            "Moda:  2\n",
            "Desviacion estandar: 1.82\n",
            "___________________\n",
            "Datos para el Dado No 4 despues de 100 lanzamientos\n",
            "Mínimo:  1\n",
            "Máximo:  6\n",
            "Promedio:3.45\n",
            "Moda:  1\n",
            "Desviacion estandar: 1.78\n",
            "___________________\n"
          ]
        }
      ]
    }
  ]
}