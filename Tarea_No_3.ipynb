{
  "nbformat": 4,
  "nbformat_minor": 0,
  "metadata": {
    "colab": {
      "provenance": []
    },
    "kernelspec": {
      "name": "python3",
      "display_name": "Python 3"
    },
    "language_info": {
      "name": "python"
    }
  },
  "cells": [
    {
      "cell_type": "code",
      "source": [
        "#Un algoritmo en el que el usuario deba poner coordenadas de latitud y longitud. Posteriormente, un print que muestre algo del estilo \"Las coordenadas son 62.22 N, 12.33 W\", la latitud y la longitud deben tener dos cifras significativas.\n",
        "\n",
        "Latid='N'\n",
        "Longid='E'\n",
        "lat=float(input ('Ingrese latitud '))\n",
        "long=float(input('Ingrese longitud'))\n",
        "if lat<0:Latid='S'\n",
        "if long<0:Longid='W'\n",
        "\n",
        "print (f'Las coordenadas son {abs(lat):.2f} {Latid} {abs(long):.2f} {Longid}')\n"
      ],
      "metadata": {
        "id": "WMPglNtv9n9O"
      },
      "execution_count": null,
      "outputs": []
    },
    {
      "cell_type": "code",
      "source": [
        "\n",
        "#Un algoritmo en el que el usuario escriba su nombre y, posteriormente, le muestre un texto del estilo \"Hola, Juan, bienvenido a Python\".\n",
        "nombre=input('Por favor escriba su nombre')\n",
        "print (f'Hola {nombre}, bienvenido a Python')"
      ],
      "metadata": {
        "id": "glW8ZtYSEVES"
      },
      "execution_count": null,
      "outputs": []
    },
    {
      "cell_type": "code",
      "source": [
        "#Un algoritmo en el que el usuario ingrese una temperatura en grados Celsius y el programa convierta esta temperatura a grados Fahrenheit. Después, debe imprimir un mensaje que diga \"XX°C es igual a YY°F\".\n",
        "Temp_c=float(input('Ingrese temperatura en grados Celsius:'))\n",
        "print (f'{Temp_c:.2f} °C es igual a {(9/5*Temp_c+32):.2f} °F')"
      ],
      "metadata": {
        "colab": {
          "base_uri": "https://localhost:8080/"
        },
        "id": "OZ8TWCWwFH2L",
        "outputId": "f72dd56b-9748-4502-a357-8d3e20d692ec"
      },
      "execution_count": 19,
      "outputs": [
        {
          "output_type": "stream",
          "name": "stdout",
          "text": [
            "Ingrese temperatura en grados Celsius:18.233333\n",
            "18.23 °C es igual a 64.82 °F\n"
          ]
        }
      ]
    },
    {
      "cell_type": "code",
      "source": [
        "# Si un numero no es divisible por ninguno entre 2 y la raiz del numero entonces es primo\n",
        "\n",
        "numero=int(input('Ingrese numero a probar:'))\n",
        "primo=True\n",
        "for i in range (2,int(numero**.5)+1):\n",
        " test=(numero % i)\n",
        "\n",
        " if test==0:\n",
        "  primo=False\n",
        "  break\n",
        "\n",
        "if primo==True:\n",
        " print (f'El numero es primo.')\n",
        "else:\n",
        " print ((f'El numero no es primo. Es divisible por {i}'))\n",
        "\n"
      ],
      "metadata": {
        "id": "3nbcQH_zGtDc"
      },
      "execution_count": null,
      "outputs": []
    }
  ]
}